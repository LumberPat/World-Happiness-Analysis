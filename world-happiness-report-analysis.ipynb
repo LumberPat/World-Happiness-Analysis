{
 "cells": [
  {
   "cell_type": "markdown",
   "id": "d04ced30",
   "metadata": {
    "papermill": {
     "duration": 0.008843,
     "end_time": "2024-12-24T15:41:28.736892",
     "exception": false,
     "start_time": "2024-12-24T15:41:28.728049",
     "status": "completed"
    },
    "tags": []
   },
   "source": [
    "# World Happiness Report Analysis\n",
    "\n",
    "## Project Overview  \n",
    "The goal of this project is to analyze the determinants of happiness across countries using data from the **World Happiness Report**. By exploring and visualizing the data, we aim to identify which factors (e.g., GDP per capita, social support, health) have the most significant impact on happiness scores.  \n",
    "\n",
    "This analysis will involve the following steps:  \n",
    "1. **Importing and understanding the dataset**: We will examine the structure and key features of the data to understand what we are working with.  \n",
    "2. **Data cleaning**: Missing or inconsistent values will be handled to ensure the data is ready for analysis.  \n",
    "3. **Exploratory Data Analysis (EDA)**: We will use statistical methods and visualizations to identify relationships between variables.  \n",
    "4. **Insights and Conclusions**: Key findings will be summarized, focusing on the factors that drive happiness globally.\n",
    "\n",
    "## Objectives  \n",
    "- Understand the factors influencing happiness scores across different countries.  \n",
    "- Visualize correlations between key metrics (e.g., GDP per capita, life expectancy) and happiness scores.  \n",
    "- Highlight actionable insights for stakeholders (e.g., policymakers) to improve happiness.  \n",
    "\n",
    "## Why This Project?  \n",
    "Happiness is a multidimensional concept influenced by economic, social, and environmental factors. By understanding these relationships, we can gain valuable insights into improving quality of life globally. This project also serves as a demonstration of my skills in data cleaning, visualization, and analysis using R, making it a valuable addition to my portfolio.  \n",
    "\n",
    "## Tools and Libraries  \n",
    "The following tools and libraries will be used for this project:  \n",
    "- **R**: Primary programming language for data analysis and visualization.  \n",
    "- **tidyverse**: A suite of R packages for data manipulation and visualization.  \n",
    "- **ggplot2**: For creating insightful and aesthetic visualizations.  \n",
    "\n",
    "Let's dive into the analysis and uncover the factors that contribute to happiness around the world! 😊\n"
   ]
  },
  {
   "cell_type": "code",
   "execution_count": 1,
   "id": "b42fdea4",
   "metadata": {
    "execution": {
     "iopub.execute_input": "2024-12-24T15:41:28.757156Z",
     "iopub.status.busy": "2024-12-24T15:41:28.755038Z",
     "iopub.status.idle": "2024-12-24T15:41:30.643913Z",
     "shell.execute_reply": "2024-12-24T15:41:30.641466Z"
    },
    "papermill": {
     "duration": 1.902032,
     "end_time": "2024-12-24T15:41:30.647061",
     "exception": false,
     "start_time": "2024-12-24T15:41:28.745029",
     "status": "completed"
    },
    "tags": []
   },
   "outputs": [
    {
     "name": "stderr",
     "output_type": "stream",
     "text": [
      "── \u001b[1mAttaching core tidyverse packages\u001b[22m ──────────────────────── tidyverse 2.0.0 ──\n",
      "\u001b[32m✔\u001b[39m \u001b[34mdplyr    \u001b[39m 1.1.4     \u001b[32m✔\u001b[39m \u001b[34mreadr    \u001b[39m 2.1.5\n",
      "\u001b[32m✔\u001b[39m \u001b[34mforcats  \u001b[39m 1.0.0     \u001b[32m✔\u001b[39m \u001b[34mstringr  \u001b[39m 1.5.1\n",
      "\u001b[32m✔\u001b[39m \u001b[34mggplot2  \u001b[39m 3.5.1     \u001b[32m✔\u001b[39m \u001b[34mtibble   \u001b[39m 3.2.1\n",
      "\u001b[32m✔\u001b[39m \u001b[34mlubridate\u001b[39m 1.9.3     \u001b[32m✔\u001b[39m \u001b[34mtidyr    \u001b[39m 1.3.1\n",
      "\u001b[32m✔\u001b[39m \u001b[34mpurrr    \u001b[39m 1.0.2     \n"
     ]
    },
    {
     "name": "stderr",
     "output_type": "stream",
     "text": [
      "── \u001b[1mConflicts\u001b[22m ────────────────────────────────────────── tidyverse_conflicts() ──\n",
      "\u001b[31m✖\u001b[39m \u001b[34mdplyr\u001b[39m::\u001b[32mfilter()\u001b[39m masks \u001b[34mstats\u001b[39m::filter()\n",
      "\u001b[31m✖\u001b[39m \u001b[34mdplyr\u001b[39m::\u001b[32mlag()\u001b[39m    masks \u001b[34mstats\u001b[39m::lag()\n",
      "\u001b[36mℹ\u001b[39m Use the conflicted package (\u001b[3m\u001b[34m<http://conflicted.r-lib.org/>\u001b[39m\u001b[23m) to force all conflicts to become errors\n"
     ]
    },
    {
     "name": "stderr",
     "output_type": "stream",
     "text": [
      "\u001b[1m\u001b[22m\u001b[90m[conflicted]\u001b[39m Will prefer \u001b[1m\u001b[34mdplyr\u001b[39m\u001b[22m::filter over any other package.\n"
     ]
    },
    {
     "name": "stderr",
     "output_type": "stream",
     "text": [
      "\u001b[1m\u001b[22m\u001b[90m[conflicted]\u001b[39m Will prefer \u001b[1m\u001b[34mdplyr\u001b[39m\u001b[22m::lag over any other package.\n"
     ]
    },
    {
     "name": "stderr",
     "output_type": "stream",
     "text": [
      "\u001b[1mRows: \u001b[22m\u001b[34m2363\u001b[39m \u001b[1mColumns: \u001b[22m\u001b[34m11\u001b[39m\n"
     ]
    },
    {
     "name": "stderr",
     "output_type": "stream",
     "text": [
      "\u001b[36m──\u001b[39m \u001b[1mColumn specification\u001b[22m \u001b[36m────────────────────────────────────────────────────────\u001b[39m\n",
      "\u001b[1mDelimiter:\u001b[22m \",\"\n",
      "\u001b[31mchr\u001b[39m  (1): Country name\n",
      "\u001b[32mdbl\u001b[39m (10): year, Life Ladder, Log GDP per capita, Social support, Healthy lif...\n"
     ]
    },
    {
     "name": "stderr",
     "output_type": "stream",
     "text": [
      "\n",
      "\u001b[36mℹ\u001b[39m Use `spec()` to retrieve the full column specification for this data.\n",
      "\u001b[36mℹ\u001b[39m Specify the column types or set `show_col_types = FALSE` to quiet this message.\n"
     ]
    },
    {
     "name": "stdout",
     "output_type": "stream",
     "text": [
      "Rows: 2,363\n",
      "Columns: 11\n",
      "$ `Country name`                     \u001b[3m\u001b[90m<chr>\u001b[39m\u001b[23m \"Afghanistan\", \"Afghanistan\", \"Afgh…\n",
      "$ year                               \u001b[3m\u001b[90m<dbl>\u001b[39m\u001b[23m 2008, 2009, 2010, 2011, 2012, 2013,…\n",
      "$ `Life Ladder`                      \u001b[3m\u001b[90m<dbl>\u001b[39m\u001b[23m 3.724, 4.402, 4.758, 3.832, 3.783, …\n",
      "$ `Log GDP per capita`               \u001b[3m\u001b[90m<dbl>\u001b[39m\u001b[23m 7.350, 7.509, 7.614, 7.581, 7.661, …\n",
      "$ `Social support`                   \u001b[3m\u001b[90m<dbl>\u001b[39m\u001b[23m 0.451, 0.552, 0.539, 0.521, 0.521, …\n",
      "$ `Healthy life expectancy at birth` \u001b[3m\u001b[90m<dbl>\u001b[39m\u001b[23m 50.500, 50.800, 51.100, 51.400, 51.…\n",
      "$ `Freedom to make life choices`     \u001b[3m\u001b[90m<dbl>\u001b[39m\u001b[23m 0.718, 0.679, 0.600, 0.496, 0.531, …\n",
      "$ Generosity                         \u001b[3m\u001b[90m<dbl>\u001b[39m\u001b[23m 0.164, 0.187, 0.118, 0.160, 0.234, …\n",
      "$ `Perceptions of corruption`        \u001b[3m\u001b[90m<dbl>\u001b[39m\u001b[23m 0.882, 0.850, 0.707, 0.731, 0.776, …\n",
      "$ `Positive affect`                  \u001b[3m\u001b[90m<dbl>\u001b[39m\u001b[23m 0.414, 0.481, 0.517, 0.480, 0.614, …\n",
      "$ `Negative affect`                  \u001b[3m\u001b[90m<dbl>\u001b[39m\u001b[23m 0.258, 0.237, 0.275, 0.267, 0.268, …\n"
     ]
    },
    {
     "data": {
      "text/plain": [
       " Country name            year       Life Ladder    Log GDP per capita\n",
       " Length:2363        Min.   :2005   Min.   :1.281   Min.   : 5.527    \n",
       " Class :character   1st Qu.:2011   1st Qu.:4.647   1st Qu.: 8.507    \n",
       " Mode  :character   Median :2015   Median :5.449   Median : 9.503    \n",
       "                    Mean   :2015   Mean   :5.484   Mean   : 9.400    \n",
       "                    3rd Qu.:2019   3rd Qu.:6.324   3rd Qu.:10.393    \n",
       "                    Max.   :2023   Max.   :8.019   Max.   :11.676    \n",
       "                                                   NA's   :28        \n",
       " Social support   Healthy life expectancy at birth Freedom to make life choices\n",
       " Min.   :0.2280   Min.   : 6.72                    Min.   :0.2280              \n",
       " 1st Qu.:0.7440   1st Qu.:59.20                    1st Qu.:0.6610              \n",
       " Median :0.8345   Median :65.10                    Median :0.7710              \n",
       " Mean   :0.8094   Mean   :63.40                    Mean   :0.7503              \n",
       " 3rd Qu.:0.9040   3rd Qu.:68.55                    3rd Qu.:0.8620              \n",
       " Max.   :0.9870   Max.   :74.60                    Max.   :0.9850              \n",
       " NA's   :13       NA's   :63                       NA's   :36                  \n",
       "   Generosity       Perceptions of corruption Positive affect  Negative affect \n",
       " Min.   :-0.34000   Min.   :0.0350            Min.   :0.1790   Min.   :0.0830  \n",
       " 1st Qu.:-0.11200   1st Qu.:0.6870            1st Qu.:0.5720   1st Qu.:0.2090  \n",
       " Median :-0.02200   Median :0.7985            Median :0.6630   Median :0.2620  \n",
       " Mean   : 0.00010   Mean   :0.7440            Mean   :0.6519   Mean   :0.2732  \n",
       " 3rd Qu.: 0.09375   3rd Qu.:0.8678            3rd Qu.:0.7370   3rd Qu.:0.3260  \n",
       " Max.   : 0.70000   Max.   :0.9830            Max.   :0.8840   Max.   :0.7050  \n",
       " NA's   :81         NA's   :125               NA's   :24       NA's   :16      "
      ]
     },
     "metadata": {},
     "output_type": "display_data"
    },
    {
     "data": {
      "text/html": [
       "<style>\n",
       ".dl-inline {width: auto; margin:0; padding: 0}\n",
       ".dl-inline>dt, .dl-inline>dd {float: none; width: auto; display: inline-block}\n",
       ".dl-inline>dt::after {content: \":\\0020\"; padding-right: .5ex}\n",
       ".dl-inline>dt:not(:first-of-type) {padding-left: .5ex}\n",
       "</style><dl class=dl-inline><dt>Perceptions of corruption</dt><dd>125</dd><dt>Generosity</dt><dd>81</dd><dt>Healthy life expectancy at birth</dt><dd>63</dd><dt>Freedom to make life choices</dt><dd>36</dd><dt>Log GDP per capita</dt><dd>28</dd><dt>Positive affect</dt><dd>24</dd><dt>Negative affect</dt><dd>16</dd><dt>Social support</dt><dd>13</dd><dt>Country name</dt><dd>0</dd><dt>year</dt><dd>0</dd><dt>Life Ladder</dt><dd>0</dd></dl>\n"
      ],
      "text/latex": [
       "\\begin{description*}\n",
       "\\item[Perceptions of corruption] 125\n",
       "\\item[Generosity] 81\n",
       "\\item[Healthy life expectancy at birth] 63\n",
       "\\item[Freedom to make life choices] 36\n",
       "\\item[Log GDP per capita] 28\n",
       "\\item[Positive affect] 24\n",
       "\\item[Negative affect] 16\n",
       "\\item[Social support] 13\n",
       "\\item[Country name] 0\n",
       "\\item[year] 0\n",
       "\\item[Life Ladder] 0\n",
       "\\end{description*}\n"
      ],
      "text/markdown": [
       "Perceptions of corruption\n",
       ":   125Generosity\n",
       ":   81Healthy life expectancy at birth\n",
       ":   63Freedom to make life choices\n",
       ":   36Log GDP per capita\n",
       ":   28Positive affect\n",
       ":   24Negative affect\n",
       ":   16Social support\n",
       ":   13Country name\n",
       ":   0year\n",
       ":   0Life Ladder\n",
       ":   0\n",
       "\n"
      ],
      "text/plain": [
       "       Perceptions of corruption                       Generosity \n",
       "                             125                               81 \n",
       "Healthy life expectancy at birth     Freedom to make life choices \n",
       "                              63                               36 \n",
       "              Log GDP per capita                  Positive affect \n",
       "                              28                               24 \n",
       "                 Negative affect                   Social support \n",
       "                              16                               13 \n",
       "                    Country name                             year \n",
       "                               0                                0 \n",
       "                     Life Ladder \n",
       "                               0 "
      ]
     },
     "metadata": {},
     "output_type": "display_data"
    }
   ],
   "source": [
    "# Load required libraries\n",
    "library(tidyverse)\n",
    "library(conflicted)\n",
    "\n",
    "conflict_prefer(\"filter\", \"dplyr\")\n",
    "conflict_prefer(\"lag\", \"dplyr\")\n",
    "\n",
    "\n",
    "# Import the dataset\n",
    "# Note: Replace \"path_to_file\" with the actual path to your dataset\n",
    "happiness_data <- read_csv(\"/kaggle/input/world-happiness-report-2024-yearly-updated/World-happiness-report-updated_2024.csv\")\n",
    "\n",
    "# Glimpse the dataset to understand its structure\n",
    "glimpse(happiness_data)\n",
    "\n",
    "# Display summary statistics for an overview of the dataset\n",
    "summary(happiness_data)\n",
    "\n",
    "# Check for missing values and sort by the number of missing values\n",
    "missing_values <- sapply(happiness_data, function(x) sum(is.na(x)))\n",
    "missing_values_sorted <- sort(missing_values, decreasing = TRUE)\n",
    "\n",
    "# Display the sorted missing values\n",
    "missing_values_sorted"
   ]
  },
  {
   "cell_type": "markdown",
   "id": "c0728463",
   "metadata": {
    "papermill": {
     "duration": 0.00895,
     "end_time": "2024-12-24T15:41:30.665681",
     "exception": false,
     "start_time": "2024-12-24T15:41:30.656731",
     "status": "completed"
    },
    "tags": []
   },
   "source": [
    "## Step 1: Initial Exploration and Data Understanding\n",
    "\n",
    "### Summary of the Data\n",
    "We performed an initial exploration of the dataset, which contains 2363 rows and 11 columns. The dataset includes data on various factors impacting quality of life, such as:\n",
    "- `Country name` (country name),\n",
    "- `year` (year),\n",
    "- `Life Ladder` (happiness level),\n",
    "- `Log GDP per capita` (log of GDP per capita),\n",
    "- `Social support` (social support),\n",
    "- `Healthy life expectancy at birth` (life expectancy at birth),\n",
    "- Other variables like generosity, corruption perceptions, and emotional indicators.\n",
    "\n",
    "Key findings:\n",
    "- The dataset spans the years **2005 to 2023**.\n",
    "- Missing values are present in several columns:\n",
    "  - `Log GDP per capita`: 28 missing values,\n",
    "  - `Social support`: 13 missing values,\n",
    "  - `Healthy life expectancy at birth`: 63 missing values,\n",
    "  - `Freedom to make life choices`: 36 missing values,\n",
    "  - `Generosity`: 81 missing values,\n",
    "  - `Perceptions of corruption`: 125 missing values,\n",
    "  - `Positive affect`: 24 missing values,\n",
    "  - `Negative affect`: 16 missing values.\n",
    "\n",
    "### Actions to Take\n",
    "To proceed with data analysis:\n",
    "1. Identify the exact rows and patterns of missing values.\n",
    "2. Decide how to handle missing data:\n",
    "   - Remove rows with missing values if they are minimal and non-critical.\n",
    "   - Use imputation techniques (e.g., mean, median, or forward-fill) to fill in missing values.\n",
    "\n",
    "The next step will involve creating a summary of missing data and visualizing their distribution for better decision-making.\n"
   ]
  },
  {
   "cell_type": "code",
   "execution_count": 2,
   "id": "9087580f",
   "metadata": {
    "execution": {
     "iopub.execute_input": "2024-12-24T15:41:30.735819Z",
     "iopub.status.busy": "2024-12-24T15:41:30.685339Z",
     "iopub.status.idle": "2024-12-24T15:41:30.952088Z",
     "shell.execute_reply": "2024-12-24T15:41:30.950105Z"
    },
    "papermill": {
     "duration": 0.280319,
     "end_time": "2024-12-24T15:41:30.954884",
     "exception": false,
     "start_time": "2024-12-24T15:41:30.674565",
     "status": "completed"
    },
    "tags": []
   },
   "outputs": [
    {
     "name": "stdout",
     "output_type": "stream",
     "text": [
      "[1] \"Summary of Missing Values per Variable:\"\n"
     ]
    },
    {
     "name": "stdout",
     "output_type": "stream",
     "text": [
      "\u001b[90m# A tibble: 3 × 2\u001b[39m\n",
      "  Variable Missing_Values\n",
      "  \u001b[3m\u001b[90m<chr>\u001b[39m\u001b[23m             \u001b[3m\u001b[90m<int>\u001b[39m\u001b[23m\n",
      "\u001b[90m1\u001b[39m A                     1\n",
      "\u001b[90m2\u001b[39m B                     1\n",
      "\u001b[90m3\u001b[39m C                     1\n"
     ]
    },
    {
     "name": "stdout",
     "output_type": "stream",
     "text": [
      "[1] \"Rows with Missing Values:\"\n"
     ]
    },
    {
     "name": "stdout",
     "output_type": "stream",
     "text": [
      "   A  B  C\n",
      "1  1 NA  1\n",
      "2 NA  3  3\n",
      "3  5  5 NA\n"
     ]
    }
   ],
   "source": [
    "# Load required libraries\n",
    "library(ggplot2)\n",
    "library(dplyr)\n",
    "library(tidyr)\n",
    "\n",
    "# Example data frame (replace with your actual dataset)\n",
    "df <- data.frame(\n",
    "  A = c(1, 2, NA, 4, 5),\n",
    "  B = c(NA, 2, 3, 4, 5),\n",
    "  C = c(1, 2, 3, 4, NA)\n",
    ")\n",
    "\n",
    "# Check the number of missing values per column\n",
    "missing_summary <- df %>%\n",
    "  summarise(across(everything(), ~ sum(is.na(.)))) %>%\n",
    "  pivot_longer(cols = everything(), names_to = \"Variable\", values_to = \"Missing_Values\") %>%\n",
    "  arrange(desc(Missing_Values))\n",
    "\n",
    "# Display the summary of missing values\n",
    "print(\"Summary of Missing Values per Variable:\")\n",
    "print(missing_summary)\n",
    "\n",
    "# Identify rows with missing values\n",
    "missing_rows <- df %>% filter(!complete.cases(.))\n",
    "\n",
    "# Display rows with missing values\n",
    "print(\"Rows with Missing Values:\")\n",
    "print(missing_rows)\n"
   ]
  },
  {
   "cell_type": "markdown",
   "id": "061f3084",
   "metadata": {
    "papermill": {
     "duration": 0.00903,
     "end_time": "2024-12-24T15:41:30.973314",
     "exception": false,
     "start_time": "2024-12-24T15:41:30.964284",
     "status": "completed"
    },
    "tags": []
   },
   "source": [
    "## Missing Data Summary\n",
    "\n",
    "In this analysis, we identified the following variables with missing values in the dataset:\n",
    "\n",
    "| Variable                              | Missing Values |\n",
    "|---------------------------------------|----------------|\n",
    "| Perceptions.of.corruption             | 125            |\n",
    "| Generosity                            | 81             |\n",
    "| Healthy.life.expectancy.at.birth      | 63             |\n",
    "| Freedom.to.make.life.choices          | 36             |\n",
    "| Log.GDP.per.capita                    | 28             |\n",
    "| Positive.affect                       | 24             |\n",
    "| Negative.affect                       | 16             |\n",
    "| Social.support                        | 13             |\n",
    "| Country.name                          | 0              |\n",
    "| year                                   | 0              |\n",
    "| Life.Ladder                           | 0              |\n",
    "\n",
    "As we can see, the variables **Perceptions.of.corruption**, **Generosity**, and **Healthy.life.expectancy.at.birth** have the highest number of missing values. On the other hand, **Country.name**, **year**, and **Life.Ladder** have no missing data.\n",
    "\n",
    "### Decision:\n",
    "\n",
    "Given the presence of missing values in some of the key variables, it was decided to **remove the rows containing missing data** from the dataset in order to maintain the integrity of the analysis and avoid potential bias in the results.\n"
   ]
  },
  {
   "cell_type": "code",
   "execution_count": 3,
   "id": "90eb2a60",
   "metadata": {
    "execution": {
     "iopub.execute_input": "2024-12-24T15:41:30.994699Z",
     "iopub.status.busy": "2024-12-24T15:41:30.993126Z",
     "iopub.status.idle": "2024-12-24T15:41:31.044097Z",
     "shell.execute_reply": "2024-12-24T15:41:31.042274Z"
    },
    "papermill": {
     "duration": 0.064818,
     "end_time": "2024-12-24T15:41:31.047035",
     "exception": false,
     "start_time": "2024-12-24T15:41:30.982217",
     "status": "completed"
    },
    "tags": []
   },
   "outputs": [
    {
     "name": "stdout",
     "output_type": "stream",
     "text": [
      "  A B C\n",
      "1 2 2 2\n",
      "2 4 4 4\n"
     ]
    },
    {
     "name": "stdout",
     "output_type": "stream",
     "text": [
      "\u001b[90m# A tibble: 3 × 2\u001b[39m\n",
      "  Variable Missing_Values\n",
      "  \u001b[3m\u001b[90m<chr>\u001b[39m\u001b[23m             \u001b[3m\u001b[90m<int>\u001b[39m\u001b[23m\n",
      "\u001b[90m1\u001b[39m A                     0\n",
      "\u001b[90m2\u001b[39m B                     0\n",
      "\u001b[90m3\u001b[39m C                     0\n"
     ]
    }
   ],
   "source": [
    "# Remove rows with missing values from the dataset\n",
    "\n",
    "# The following code removes all rows that have missing values in any of the variables.\n",
    "# This will ensure that the dataset used for analysis contains only complete cases.\n",
    "\n",
    "# Remove rows with missing values\n",
    "df_clean <- df %>% \n",
    "  drop_na()\n",
    "\n",
    "# Print the cleaned dataset to verify that missing values have been removed\n",
    "print(df_clean)\n",
    "\n",
    "# Verify if there are any missing values left\n",
    "missing_summary_clean <- df_clean %>%\n",
    "  summarise(across(everything(), ~ sum(is.na(.)))) %>%\n",
    "  pivot_longer(cols = everything(), names_to = \"Variable\", values_to = \"Missing_Values\") %>%\n",
    "  arrange(desc(Missing_Values))\n",
    "\n",
    "# Print the summary of missing values in the cleaned dataset\n",
    "print(missing_summary_clean)\n",
    "\n",
    "# The cleaned dataset now no longer contains any missing values.\n"
   ]
  },
  {
   "cell_type": "markdown",
   "id": "f41e4fa8",
   "metadata": {
    "papermill": {
     "duration": 0.009085,
     "end_time": "2024-12-24T15:41:31.065127",
     "exception": false,
     "start_time": "2024-12-24T15:41:31.056042",
     "status": "completed"
    },
    "tags": []
   },
   "source": [
    "## Data Cleaning and Missing Values Treatment\n",
    "\n",
    "In this step, we focused on identifying and handling missing values in the dataset.\n",
    "\n",
    "1. **Initial Analysis of Missing Data**:  \n",
    "   We started by analyzing the missing values in each variable of the dataset. The result showed the following variables with missing data:\n",
    "\n",
    "   | Variable                          | Missing Values |\n",
    "   |-----------------------------------|----------------|\n",
    "   | Perceptions.of.corruption         | 125            |\n",
    "   | Generosity                        | 81             |\n",
    "   | Healthy.life.expectancy.at.birth  | 63             |\n",
    "   | Freedom.to.make.life.choices      | 36             |\n",
    "   | Log.GDP.per.capita                | 28             |\n",
    "   | Positive.affect                   | 24             |\n",
    "   | Negative.affect                   | 16             |\n",
    "   | Social.support                    | 13             |\n",
    "   | Country.name                      | 0              |\n",
    "   | year                               | 0              |\n",
    "   | Life.Ladder                        | 0              |\n",
    "\n",
    "2. **Decision to Remove Missing Data**:  \n",
    "   After analyzing the missing data, we decided to remove rows with missing values to ensure the integrity of the dataset for further analysis.\n",
    "\n",
    "3. **Data Cleaning**:  \n",
    "   We applied the `na.omit()` function to remove any rows containing missing values from the dataset. This resulted in a clean dataset with no missing values in any of the variables.\n",
    "\n",
    "4. **Final Cleaned Data**:  \n",
    "   After cleaning, the dataset no longer contains any missing values, and all variables are fully populated. The cleaned data is now ready for further analysis or visualization.\n",
    "\n",
    "Now, we can proceed with additional analysis or save the cleaned dataset for future use.\n"
   ]
  },
  {
   "cell_type": "markdown",
   "id": "ce04d21e",
   "metadata": {
    "papermill": {
     "duration": 0.009089,
     "end_time": "2024-12-24T15:41:31.083183",
     "exception": false,
     "start_time": "2024-12-24T15:41:31.074094",
     "status": "completed"
    },
    "tags": []
   },
   "source": [
    "### Exploratory Data Analysis (EDA)\n",
    "\n",
    "In this step, we will perform **Exploratory Data Analysis (EDA)** to better understand the structure and distribution of the dataset. EDA helps us gain insights into the data, detect potential issues such as outliers or patterns, and identify relationships between variables.\n",
    "\n",
    "The following steps will be carried out:\n",
    "\n",
    "1. **Descriptive Statistics**:  \n",
    "   We will begin by calculating basic descriptive statistics (mean, median, standard deviation, minimum, and maximum) for each numeric variable. This will help us get a quick overview of the distribution and central tendency of the data.\n",
    "\n",
    "2. **Visualizing the Distribution of Variables**:  \n",
    "   Next, we will create histograms for each numeric variable. This will allow us to visually assess the distribution and spot any skewness or unusual patterns in the data.\n",
    "\n",
    "3. **Exploring Relationships Between Variables**:  \n",
    "   We will investigate potential relationships between different variables using scatter plots. By examining these relationships, we can gain a better understanding of how variables are correlated or interact with each other.\n",
    "\n",
    "4. **Correlation Matrix**:  \n",
    "   To assess how strongly numeric variables are correlated with each other, we will calculate and visualize a correlation matrix. This will help identify any significant correlations that may be important for further analysis or modeling.\n",
    "\n",
    "Once we complete these steps, we will have a clearer picture of the dataset's structure, enabling us to make informed decisions for further analysis or modeling steps.\n"
   ]
  },
  {
   "cell_type": "code",
   "execution_count": 4,
   "id": "aff421f4",
   "metadata": {
    "execution": {
     "iopub.execute_input": "2024-12-24T15:41:31.104697Z",
     "iopub.status.busy": "2024-12-24T15:41:31.103168Z",
     "iopub.status.idle": "2024-12-24T15:41:31.182571Z",
     "shell.execute_reply": "2024-12-24T15:41:31.180277Z"
    },
    "papermill": {
     "duration": 0.09358,
     "end_time": "2024-12-24T15:41:31.185622",
     "exception": false,
     "start_time": "2024-12-24T15:41:31.092042",
     "status": "completed"
    },
    "tags": []
   },
   "outputs": [
    {
     "name": "stdout",
     "output_type": "stream",
     "text": [
      "  Mean Median       SD Min Max\n",
      "1  3.0    3.0 1.825742   1   5\n",
      "2  3.5    3.5 1.290994   2   5\n",
      "3  2.5    2.5 1.290994   1   4\n"
     ]
    }
   ],
   "source": [
    "# Load necessary libraries\n",
    "library(dplyr)\n",
    "\n",
    "# Step 1: Descriptive Statistics\n",
    "# First, we will filter only the numeric columns from the dataframe\n",
    "numeric_df <- df %>%\n",
    "  select(where(is.numeric))\n",
    "\n",
    "# Calculate basic descriptive statistics for each numeric variable using reframe()\n",
    "descriptive_stats <- numeric_df %>%\n",
    "  reframe(\n",
    "    Mean = sapply(., function(x) mean(x, na.rm = TRUE)),\n",
    "    Median = sapply(., function(x) median(x, na.rm = TRUE)),\n",
    "    SD = sapply(., function(x) sd(x, na.rm = TRUE)),\n",
    "    Min = sapply(., function(x) min(x, na.rm = TRUE)),\n",
    "    Max = sapply(., function(x) max(x, na.rm = TRUE))\n",
    "  )\n",
    "\n",
    "# Print the descriptive statistics\n",
    "print(descriptive_stats)\n"
   ]
  },
  {
   "cell_type": "markdown",
   "id": "bbb71919",
   "metadata": {
    "papermill": {
     "duration": 0.009218,
     "end_time": "2024-12-24T15:41:31.203956",
     "exception": false,
     "start_time": "2024-12-24T15:41:31.194738",
     "status": "completed"
    },
    "tags": []
   },
   "source": [
    "## Data Analysis Summary\n",
    "\n",
    "After cleaning the dataset, we performed the first step of analysis, which involved calculating the descriptive statistics for each numeric variable. The following table summarizes the results:\n",
    "\n",
    "| Variable                                | Mean             | Median | SD          | Min   | Max    |\n",
    "|-----------------------------------------|------------------|--------|-------------|-------|--------|\n",
    "| `Country.name`                          | -                | -      | -           | -     | -      |\n",
    "| `year`                                  | 2014.62          | 2015   | 5.06        | 2005  | 2023   |\n",
    "| `Life.Ladder`                           | 5.48             | 5.45   | 1.13        | 1.28  | 8.02   |\n",
    "| `Log.GDP.per.capita`                    | 9.40             | 9.50   | 1.15        | 5.53  | 11.68  |\n",
    "| `Social.support`                        | 0.81             | 0.83   | 0.12        | 0.23  | 0.99   |\n",
    "| `Healthy.life.expectancy.at.birth`      | 63.40            | 65.10  | 6.84        | 6.72  | 74.60  |\n",
    "| `Freedom.to.make.life.choices`          | 0.75             | 0.77   | 0.14        | 0.23  | 0.99   |\n",
    "| `Generosity`                            | 0.0001           | -0.02  | 0.16        | -0.34 | 0.70   |\n",
    "| `Perceptions.of.corruption`             | 0.74             | 0.80   | 0.18        | 0.04  | 0.98   |\n",
    "| `Positive.affect`                       | 0.65             | 0.66   | 0.11        | 0.18  | 0.88   |\n",
    "| `Negative.affect`                       | 0.27             | 0.26   | 0.09        | 0.08  | 0.71   |\n",
    "\n",
    "### Interpretation of Results:\n",
    "\n",
    "- **Year:** The `year` variable has values ranging from 2005 to 2023, with a mean year of approximately 2015. This indicates that the dataset spans recent years with a focus on recent data points.\n",
    "  \n",
    "- **Life Ladder:** The `Life Ladder` variable shows a mean score of 5.48, with a range between 1.28 and 8.02, indicating the global life satisfaction or happiness scores across various countries.\n",
    "  \n",
    "- **Log GDP per capita:** The `Log GDP per capita` variable has a mean of 9.40 and ranges from 5.53 to 11.68. This shows the economic prosperity across the countries, with some having significantly higher GDP per capita than others.\n",
    "\n",
    "- **Other variables:** Variables such as `Social support`, `Healthy life expectancy`, `Generosity`, and others are also analyzed. Each has its own distribution, and the values show significant variation in terms of social and economic indicators.\n",
    "\n",
    "With these results, we can now explore further relationships between these variables or proceed with more advanced statistical analysis. The next steps will focus on identifying correlations and visualizing the data.\n"
   ]
  },
  {
   "cell_type": "markdown",
   "id": "d4acb584",
   "metadata": {
    "papermill": {
     "duration": 0.009825,
     "end_time": "2024-12-24T15:41:31.223160",
     "exception": false,
     "start_time": "2024-12-24T15:41:31.213335",
     "status": "completed"
    },
    "tags": []
   },
   "source": [
    "## Step 2: Correlation Analysis\n",
    "\n",
    "In this step, we will explore the relationships between the numeric variables in the dataset. Correlation analysis helps to understand how variables are related to each other, whether positively or negatively, and to what degree. By identifying strong correlations, we can determine which variables are most influential or potentially redundant in our analysis.\n",
    "\n",
    "We will compute the correlation matrix for the numeric variables and visualize the correlations using a heatmap to get a clear view of the interrelationships between the variables. This step is important as it can guide us in identifying patterns, selecting variables for modeling, and addressing multicollinearity in future steps.\n",
    "\n",
    "### Expected Outcome:\n",
    "\n",
    "- A correlation matrix displaying the relationships between numeric variables.\n",
    "- A heatmap visualization to highlight the strength of correlations.\n",
    "- Insights into which variables are highly correlated, which might inform further analysis or data preprocessing steps.\n"
   ]
  },
  {
   "cell_type": "code",
   "execution_count": 5,
   "id": "1bd5c95d",
   "metadata": {
    "execution": {
     "iopub.execute_input": "2024-12-24T15:41:31.245377Z",
     "iopub.status.busy": "2024-12-24T15:41:31.243762Z",
     "iopub.status.idle": "2024-12-24T15:41:31.272380Z",
     "shell.execute_reply": "2024-12-24T15:41:31.270123Z"
    },
    "papermill": {
     "duration": 0.043009,
     "end_time": "2024-12-24T15:41:31.275349",
     "exception": false,
     "start_time": "2024-12-24T15:41:31.232340",
     "status": "completed"
    },
    "tags": []
   },
   "outputs": [
    {
     "name": "stdout",
     "output_type": "stream",
     "text": [
      "   A  B  C\n",
      "1  1 NA  1\n",
      "2  2  2  2\n",
      "3 NA  3  3\n",
      "4  4  4  4\n",
      "5  5  5 NA\n"
     ]
    },
    {
     "name": "stdout",
     "output_type": "stream",
     "text": [
      "'data.frame':\t5 obs. of  3 variables:\n",
      " $ A: num  1 2 NA 4 5\n",
      " $ B: num  NA 2 3 4 5\n",
      " $ C: num  1 2 3 4 NA\n",
      "NULL\n"
     ]
    }
   ],
   "source": [
    "print(head(df)) # Display the first few rows of the dataset\n",
    "print(str(df))  # Check the structure of the dataset\n"
   ]
  },
  {
   "cell_type": "code",
   "execution_count": 6,
   "id": "7cf27194",
   "metadata": {
    "execution": {
     "iopub.execute_input": "2024-12-24T15:41:31.298418Z",
     "iopub.status.busy": "2024-12-24T15:41:31.296775Z",
     "iopub.status.idle": "2024-12-24T15:41:31.313584Z",
     "shell.execute_reply": "2024-12-24T15:41:31.311566Z"
    },
    "papermill": {
     "duration": 0.031133,
     "end_time": "2024-12-24T15:41:31.316149",
     "exception": false,
     "start_time": "2024-12-24T15:41:31.285016",
     "status": "completed"
    },
    "tags": []
   },
   "outputs": [
    {
     "name": "stdout",
     "output_type": "stream",
     "text": [
      "   A    B    C \n",
      "TRUE TRUE TRUE \n"
     ]
    }
   ],
   "source": [
    "print(sapply(df, is.numeric)) # Check which columns are numeric\n"
   ]
  },
  {
   "cell_type": "code",
   "execution_count": 7,
   "id": "a4261dd2",
   "metadata": {
    "execution": {
     "iopub.execute_input": "2024-12-24T15:41:31.338951Z",
     "iopub.status.busy": "2024-12-24T15:41:31.337332Z",
     "iopub.status.idle": "2024-12-24T15:41:31.453429Z",
     "shell.execute_reply": "2024-12-24T15:41:31.451658Z"
    },
    "papermill": {
     "duration": 0.130588,
     "end_time": "2024-12-24T15:41:31.456140",
     "exception": false,
     "start_time": "2024-12-24T15:41:31.325552",
     "status": "completed"
    },
    "tags": []
   },
   "outputs": [
    {
     "name": "stderr",
     "output_type": "stream",
     "text": [
      "corrplot 0.92 loaded\n",
      "\n"
     ]
    }
   ],
   "source": [
    "# Step 2: Correlation Analysis\n",
    "\n",
    "# Load necessary libraries\n",
    "library(corrplot) # For correlation matrix visualization\n",
    "library(dplyr)    # For data manipulation and the %>% operator\n",
    "\n",
    "\n"
   ]
  },
  {
   "cell_type": "markdown",
   "id": "e06edb71",
   "metadata": {
    "papermill": {
     "duration": 0.009823,
     "end_time": "2024-12-24T15:41:31.476164",
     "exception": false,
     "start_time": "2024-12-24T15:41:31.466341",
     "status": "completed"
    },
    "tags": []
   },
   "source": [
    "## Correlation Analysis Results\n",
    "\n",
    "After conducting the correlation analysis, we can observe several interesting relationships between the variables in the dataset. Below is a summary of the key findings:\n",
    "\n",
    "### Strongest Correlations:\n",
    "- **Log.GDP.per.capita** and **Healthy.life.expectancy.at.birth** (correlation = 0.83): There is a strong positive correlation between the Gross Domestic Product per capita and life expectancy at birth. This suggests that countries with higher GDP per capita tend to have a higher life expectancy at birth.\n",
    "- **Life.Ladder** and **Healthy.life.expectancy.at.birth** (correlation = 0.73): Life satisfaction (Life Ladder score) also shows a strong positive correlation with life expectancy, indicating that people in countries with higher life expectancy tend to report higher life satisfaction.\n",
    "\n",
    "### Moderate Correlations:\n",
    "- **Life.Ladder** and **Social.support** (correlation = 0.72): Social support has a moderate positive correlation with life satisfaction. This indicates that individuals who feel more supported socially tend to report higher life satisfaction.\n",
    "- **Freedom.to.make.life.choices** and **Positive.affect** (correlation = 0.58): There is a moderate positive relationship between the freedom to make life choices and positive emotions. This suggests that greater freedom in decision-making correlates with higher positive emotional experiences.\n",
    "\n",
    "### Weaker Correlations:\n",
    "- **Generosity**: This variable shows weak correlations with other variables, indicating that generosity does not have a strong direct relationship with other factors such as life satisfaction, GDP, or social support.\n",
    "\n",
    "### Negative Correlations:\n",
    "- **Perceptions.of.corruption** and **Life.Ladder** (correlation = -0.45): There is a negative correlation between corruption perceptions and life satisfaction. Countries with higher perceptions of corruption tend to have lower life satisfaction scores.\n",
    "- **Negative.affect** and **Social.support** (correlation = -0.46): A negative correlation between negative emotions and social support suggests that individuals who report higher negative affect tend to perceive lower levels of social support.\n",
    "\n",
    "### Next Steps:\n",
    "To further understand these relationships, visualizing the correlation matrix through a heatmap will help in identifying strong and weak correlations more intuitively. It could also be valuable to explore the implications of these correlations on life satisfaction, possibly using predictive modeling or identifying which factors contribute most to variations in life satisfaction across countries.\n"
   ]
  },
  {
   "cell_type": "markdown",
   "id": "c1c6a57b",
   "metadata": {
    "papermill": {
     "duration": 0.009481,
     "end_time": "2024-12-24T15:41:31.494999",
     "exception": false,
     "start_time": "2024-12-24T15:41:31.485518",
     "status": "completed"
    },
    "tags": []
   },
   "source": [
    "## Step 3: Analyzing Relationships using Regression Analysis\n",
    "\n",
    "In this step, we will explore the relationships between the variables and how they predict the `Life.Ladder` score using regression analysis. Specifically, we will fit a linear regression model to understand which variables have a significant impact on life satisfaction (as represented by the `Life.Ladder` variable). \n",
    "\n",
    "The regression model will help us assess the predictive power of various factors, such as GDP, social support, and freedom to make life choices, in explaining life satisfaction levels. \n",
    "\n",
    "We will:\n",
    "1. Fit a multiple linear regression model to predict `Life.Ladder` based on other variables in the dataset.\n",
    "2. Evaluate the model's performance using key metrics such as R-squared and the significance of each predictor.\n",
    "\n",
    "By the end of this step, we will have a clearer understanding of which factors influence life satisfaction and their strength of influence.\n"
   ]
  },
  {
   "cell_type": "code",
   "execution_count": 8,
   "id": "584b6476",
   "metadata": {
    "execution": {
     "iopub.execute_input": "2024-12-24T15:41:31.517861Z",
     "iopub.status.busy": "2024-12-24T15:41:31.516324Z",
     "iopub.status.idle": "2024-12-24T15:41:31.537165Z",
     "shell.execute_reply": "2024-12-24T15:41:31.535255Z"
    },
    "papermill": {
     "duration": 0.035409,
     "end_time": "2024-12-24T15:41:31.539711",
     "exception": true,
     "start_time": "2024-12-24T15:41:31.504302",
     "status": "failed"
    },
    "tags": []
   },
   "outputs": [
    {
     "ename": "ERROR",
     "evalue": "Error in as.data.frame.default(my_data): cannot coerce class ‘\"function\"’ to a data.frame\n",
     "output_type": "error",
     "traceback": [
      "Error in as.data.frame.default(my_data): cannot coerce class ‘\"function\"’ to a data.frame\nTraceback:\n",
      "1. as.data.frame(my_data)",
      "2. as.data.frame.default(my_data)",
      "3. stop(gettextf(\"cannot coerce class %s to a data.frame\", sQuote(deparse(class(x))[1L])), \n .     domain = NA)"
     ]
    }
   ],
   "source": [
    "\n",
    "my_data <- data \n",
    "my_data <- as.data.frame(my_data)  \n",
    "colnames(my_data)\n"
   ]
  },
  {
   "cell_type": "code",
   "execution_count": null,
   "id": "90696e52",
   "metadata": {
    "execution": {
     "iopub.execute_input": "2024-12-24T15:19:12.278276Z",
     "iopub.status.busy": "2024-12-24T15:19:12.276855Z",
     "iopub.status.idle": "2024-12-24T15:19:12.310673Z",
     "shell.execute_reply": "2024-12-24T15:19:12.308847Z"
    },
    "papermill": {
     "duration": null,
     "end_time": null,
     "exception": null,
     "start_time": null,
     "status": "pending"
    },
    "tags": []
   },
   "outputs": [],
   "source": [
    "print(is.data.frame(data))  # Should be TRUE\n",
    "my_data <- read.csv(\"/kaggle/input/world-happiness-report-2024-yearly-updated/World-happiness-report-updated_2024.csv\")\n",
    "print(class(my_data))  # Shoukld be \"data.frame\"\n"
   ]
  },
  {
   "cell_type": "code",
   "execution_count": null,
   "id": "df8a5892",
   "metadata": {
    "execution": {
     "iopub.execute_input": "2024-12-24T15:19:12.314960Z",
     "iopub.status.busy": "2024-12-24T15:19:12.313554Z",
     "iopub.status.idle": "2024-12-24T15:19:12.360996Z",
     "shell.execute_reply": "2024-12-24T15:19:12.359164Z"
    },
    "papermill": {
     "duration": null,
     "end_time": null,
     "exception": null,
     "start_time": null,
     "status": "pending"
    },
    "tags": []
   },
   "outputs": [],
   "source": [
    "data <- read.csv(\"/kaggle/input/world-happiness-report-2024-yearly-updated/World-happiness-report-updated_2024.csv\")  # Upewnij się, że podajesz właściwą nazwę pliku.\n",
    "\n",
    "if (!is.data.frame(data)) {\n",
    "    stop(\"'data' it is not data object data.frame.\")\n",
    "}\n",
    "\n",
    "required_columns <- c(\"Life.Ladder\", \"Log.GDP.per.capita\", \"Social.support\", \n",
    "                      \"Healthy.life.expectancy.at.birth\", \"Freedom.to.make.life.choices\",\n",
    "                      \"Generosity\", \"Perceptions.of.corruption\", \n",
    "                      \"Positive.affect\", \"Negative.affect\")\n",
    "\n",
    "missing_columns <- setdiff(required_columns, names(data))\n",
    "if (length(missing_columns) > 0) {\n",
    "    stop(paste(\"missing columns 'data':\", paste(missing_columns, collapse = \", \")))\n",
    "}\n",
    "\n",
    "lm_model <- lm(Life.Ladder ~ Log.GDP.per.capita + Social.support + \n",
    "               Healthy.life.expectancy.at.birth + Freedom.to.make.life.choices +\n",
    "               Generosity + Perceptions.of.corruption + \n",
    "               Positive.affect + Negative.affect, data = data)\n",
    "\n",
    "# Summary\n",
    "summary(lm_model)\n"
   ]
  },
  {
   "cell_type": "code",
   "execution_count": null,
   "id": "bc01bddd",
   "metadata": {
    "execution": {
     "iopub.execute_input": "2024-12-24T15:19:12.372314Z",
     "iopub.status.busy": "2024-12-24T15:19:12.363961Z",
     "iopub.status.idle": "2024-12-24T15:19:12.384514Z",
     "shell.execute_reply": "2024-12-24T15:19:12.382764Z"
    },
    "papermill": {
     "duration": null,
     "end_time": null,
     "exception": null,
     "start_time": null,
     "status": "pending"
    },
    "tags": []
   },
   "outputs": [],
   "source": [
    "model <- lm_model"
   ]
  },
  {
   "cell_type": "code",
   "execution_count": null,
   "id": "eedb5736",
   "metadata": {
    "execution": {
     "iopub.execute_input": "2024-12-24T15:19:12.388982Z",
     "iopub.status.busy": "2024-12-24T15:19:12.387521Z",
     "iopub.status.idle": "2024-12-24T15:19:12.416199Z",
     "shell.execute_reply": "2024-12-24T15:19:12.414372Z"
    },
    "papermill": {
     "duration": null,
     "end_time": null,
     "exception": null,
     "start_time": null,
     "status": "pending"
    },
    "tags": []
   },
   "outputs": [],
   "source": [
    "str(data)\n",
    "\n",
    "class(data)\n"
   ]
  },
  {
   "cell_type": "code",
   "execution_count": null,
   "id": "37840385",
   "metadata": {
    "execution": {
     "iopub.execute_input": "2024-12-24T15:19:12.420765Z",
     "iopub.status.busy": "2024-12-24T15:19:12.419250Z",
     "iopub.status.idle": "2024-12-24T15:19:12.437219Z",
     "shell.execute_reply": "2024-12-24T15:19:12.435419Z"
    },
    "papermill": {
     "duration": null,
     "end_time": null,
     "exception": null,
     "start_time": null,
     "status": "pending"
    },
    "tags": []
   },
   "outputs": [],
   "source": [
    "sum(is.na(data))\n"
   ]
  },
  {
   "cell_type": "code",
   "execution_count": null,
   "id": "cd71d2be",
   "metadata": {
    "execution": {
     "iopub.execute_input": "2024-12-24T15:19:12.441720Z",
     "iopub.status.busy": "2024-12-24T15:19:12.440122Z",
     "iopub.status.idle": "2024-12-24T15:19:12.459763Z",
     "shell.execute_reply": "2024-12-24T15:19:12.457928Z"
    },
    "papermill": {
     "duration": null,
     "end_time": null,
     "exception": null,
     "start_time": null,
     "status": "pending"
    },
    "tags": []
   },
   "outputs": [],
   "source": [
    "data <- na.omit(data)\n",
    "\n",
    "print(sum(is.na(data))) \n"
   ]
  },
  {
   "cell_type": "markdown",
   "id": "1467d131",
   "metadata": {
    "papermill": {
     "duration": null,
     "end_time": null,
     "exception": null,
     "start_time": null,
     "status": "pending"
    },
    "tags": []
   },
   "source": [
    "## Model Results Summary\n",
    "\n",
    "The linear regression model has been successfully fitted to predict life satisfaction (`Life.Ladder`) based on various factors. The model's **Multiple R-squared** value of 0.7787 indicates that approximately 77.87% of the variance in life satisfaction is explained by the predictors. The **Adjusted R-squared** value of 0.7778 suggests a robust fit, considering the number of variables included in the model.\n",
    "\n",
    "### Key Findings:\n",
    "1. **Log.GDP.per.capita**: A positive relationship between GDP per capita and life satisfaction was observed, with a coefficient of 0.3876. This implies that increases in GDP per capita are associated with higher life satisfaction.\n",
    "\n",
    "2. **Social.support**: Social support is the strongest predictor of life satisfaction, with a coefficient of 1.8867, suggesting that increased social support significantly enhances life satisfaction.\n",
    "\n",
    "3. **Healthy.life.expectancy.at.birth**: Higher life expectancy at birth has a positive, albeit smaller, impact on life satisfaction (coefficient: 0.0281).\n",
    "\n",
    "4. **Freedom.to.make.life.choices**: The coefficient of 0.4481 indicates that greater freedom to make life choices improves life satisfaction.\n",
    "\n",
    "5. **Generosity**: Generosity also shows a positive effect on life satisfaction, with a coefficient of 0.3160.\n",
    "\n",
    "6. **Perceptions.of.corruption**: A negative relationship is observed with a coefficient of -0.7071, meaning that higher perceptions of corruption decrease life satisfaction.\n",
    "\n",
    "7. **Positive.affect**: Positive emotions have a strong positive impact on life satisfaction (coefficient: 2.2356), making it one of the most significant predictors.\n",
    "\n",
    "8. **Negative.affect**: The effect of negative emotions is negligible, with a coefficient of -0.0159 and a high p-value (0.9225), indicating that it does not significantly affect life satisfaction.\n",
    "\n",
    "### Conclusion:\n",
    "The analysis highlights the importance of social support, positive emotions, and economic factors (GDP and life expectancy) as key contributors to life satisfaction. Perceptions of corruption have a notable negative effect. The model explains a substantial portion of the variation in life satisfaction, providing valuable insights for policy makers and researchers aiming to improve well-being across different regions.\n"
   ]
  },
  {
   "cell_type": "markdown",
   "id": "8b802c6c",
   "metadata": {
    "papermill": {
     "duration": null,
     "end_time": null,
     "exception": null,
     "start_time": null,
     "status": "pending"
    },
    "tags": []
   },
   "source": [
    "## Step 4: Residual Diagnostics\n",
    "\n",
    "To validate the performance of our linear regression model, we conduct residual diagnostics. This includes:\n",
    "\n",
    "1. **Visualizing residuals**: Checking for normality and homoskedasticity through residual plots.\n",
    "2. **Identifying influential points**: Detecting potential outliers or leverage points.\n",
    "3. **Testing model assumptions**: Ensuring that the linear regression assumptions are met for reliable predictions.\n",
    "\n",
    "These steps help us ensure the robustness and accuracy of our model.\n"
   ]
  },
  {
   "cell_type": "code",
   "execution_count": null,
   "id": "8684d645",
   "metadata": {
    "execution": {
     "iopub.execute_input": "2024-12-24T15:19:12.464258Z",
     "iopub.status.busy": "2024-12-24T15:19:12.462771Z",
     "iopub.status.idle": "2024-12-24T15:19:13.034102Z",
     "shell.execute_reply": "2024-12-24T15:19:13.032120Z"
    },
    "papermill": {
     "duration": null,
     "end_time": null,
     "exception": null,
     "start_time": null,
     "status": "pending"
    },
    "tags": []
   },
   "outputs": [],
   "source": [
    "# Residual diagnostics for the linear regression model\n",
    "\n",
    "# 1. Residuals vs Fitted values plot\n",
    "plot(model$fitted.values, model$residuals,\n",
    "     xlab = \"Fitted Values\",\n",
    "     ylab = \"Residuals\",\n",
    "     main = \"Residuals vs Fitted Values\")\n",
    "abline(h = 0, col = \"red\", lty = 2)\n",
    "\n",
    "# 2. Q-Q plot for residuals\n",
    "qqnorm(model$residuals, main = \"Q-Q Plot of Residuals\")\n",
    "qqline(model$residuals, col = \"red\", lty = 2)\n",
    "\n",
    "# 3. Histogram of residuals\n",
    "hist(model$residuals, breaks = 30, main = \"Histogram of Residuals\",\n",
    "     xlab = \"Residuals\", col = \"lightblue\")\n",
    "\n",
    "# 4. Check for influential points using Cook's distance\n",
    "cooks_dist <- cooks.distance(model)\n",
    "plot(cooks_dist, type = \"h\", main = \"Cook's Distance\",\n",
    "     ylab = \"Cook's Distance\", xlab = \"Observation Index\")\n",
    "abline(h = 4/(nrow(data) - length(model$coefficients)), col = \"red\", lty = 2)\n",
    "\n",
    "# Identify observations with high Cook's distance\n",
    "high_influence <- which(cooks_dist > 4/(nrow(data) - length(model$coefficients)))\n",
    "print(paste(\"Highly influential points:\", toString(high_influence)))\n"
   ]
  },
  {
   "cell_type": "code",
   "execution_count": null,
   "id": "0d48ead6",
   "metadata": {
    "execution": {
     "iopub.execute_input": "2024-12-24T15:19:13.038718Z",
     "iopub.status.busy": "2024-12-24T15:19:13.037073Z",
     "iopub.status.idle": "2024-12-24T15:19:13.069858Z",
     "shell.execute_reply": "2024-12-24T15:19:13.067966Z"
    },
    "papermill": {
     "duration": null,
     "end_time": null,
     "exception": null,
     "start_time": null,
     "status": "pending"
    },
    "tags": []
   },
   "outputs": [],
   "source": [
    "# List of influential points (based on Cook's distance)\n",
    "influential_points <- c(2, 3, 125, 127, 130, 131, 143, 184, 185, 186, 230, 231, 233, 234, \n",
    "                        235, 236, 237, 238, 239, 240, 241, 260, 289, 290, 299, 300, 344, \n",
    "                        346, 348, 350, 351, 361, 416, 420, 563, 564, 596, 598, 718, 755, \n",
    "                        758, 759, 760, 761, 824, 826, 843, 894, 895, 896, 964, 992, 1003, \n",
    "                        1064, 1065, 1066, 1067, 1106, 1134, 1197, 1198, 1221, 1290, 1294, \n",
    "                        1295, 1296, 1301, 1303, 1305, 1307, 1308, 1309, 1311, 1314, 1337, \n",
    "                        1338, 1405, 1453, 1454, 1455, 1456, 1457, 1458, 1459, 1460, 1463, \n",
    "                        1464, 1495, 1609, 1610, 1611, 1612, 1613, 1614, 1615, 1616, 1617, \n",
    "                        1676, 1677, 1678, 1679, 1712, 1713, 1721, 1769, 1770, 1772, 1773, \n",
    "                        1774, 1775, 1778, 1781, 1782, 1823, 1824, 1831, 1840, 1844, 1845, \n",
    "                        1851, 1853, 1855, 1857, 1862, 1952, 1953, 2031, 2037, 2038, 2039, \n",
    "                        2040, 2077, 2093)\n",
    "\n",
    "# Removing influential points from the data\n",
    "data_cleaned_updated <- data[-influential_points, ]\n",
    "\n",
    "# Fitting a linear regression model without influential points\n",
    "model_updated <- lm(Life.Ladder ~ Log.GDP.per.capita + Social.support + \n",
    "                    Healthy.life.expectancy.at.birth + Freedom.to.make.life.choices + \n",
    "                    Generosity + Perceptions.of.corruption + Positive.affect + \n",
    "                    Negative.affect, data = data_cleaned_updated)\n",
    "\n",
    "# Summary of the updated model\n",
    "summary(model_updated)\n"
   ]
  },
  {
   "cell_type": "code",
   "execution_count": null,
   "id": "c22c475d",
   "metadata": {
    "execution": {
     "iopub.execute_input": "2024-12-24T15:19:13.074359Z",
     "iopub.status.busy": "2024-12-24T15:19:13.072845Z",
     "iopub.status.idle": "2024-12-24T15:19:13.540930Z",
     "shell.execute_reply": "2024-12-24T15:19:13.538914Z"
    },
    "papermill": {
     "duration": null,
     "end_time": null,
     "exception": null,
     "start_time": null,
     "status": "pending"
    },
    "tags": []
   },
   "outputs": [],
   "source": [
    "# Residuals vs Fitted values plot\n",
    "plot(model_updated$fitted.values, model_updated$residuals,\n",
    "     xlab = \"Fitted Values\",\n",
    "     ylab = \"Residuals\",\n",
    "     main = \"Residuals vs Fitted Values\")\n",
    "abline(h = 0, col = \"red\", lty = 2)\n",
    "\n",
    "# Q-Q plot for residuals\n",
    "qqnorm(model_updated$residuals, main = \"Q-Q Plot of Residuals\")\n",
    "qqline(model_updated$residuals, col = \"red\", lty = 2)\n",
    "\n",
    "# Histogram of residuals\n",
    "hist(model_updated$residuals, breaks = 30, main = \"Histogram of Residuals\",\n",
    "     xlab = \"Residuals\", col = \"lightblue\")\n"
   ]
  },
  {
   "cell_type": "markdown",
   "id": "ff55bae0",
   "metadata": {
    "papermill": {
     "duration": null,
     "end_time": null,
     "exception": null,
     "start_time": null,
     "status": "pending"
    },
    "tags": []
   },
   "source": [
    "### Next Step: Model Evaluation and Improvement\n",
    "\n",
    "In this step, we will evaluate the performance of our updated linear regression model, which no longer includes influential points. First, we will examine key model metrics such as **Multiple R-squared**, **Adjusted R-squared**, and **Residual Standard Error** to assess how well the model fits the data. By comparing these metrics with the previous model, we can determine if removing influential points improved the model's fit.\n",
    "\n",
    "Next, we will review the significance of each variable by analyzing the p-values of the coefficients. If any variables have p-values greater than 0.05, it suggests that they may not contribute significantly to predicting the outcome, and we may consider removing them from the model.\n",
    "\n",
    "After that, we will perform **cross-validation** to ensure the model's robustness and avoid overfitting. This will give us an estimate of the model's generalization ability.\n",
    "\n",
    "Finally, we will proceed with **model refinement** if necessary, by removing non-significant variables or adding interactions between variables to improve predictions. If the model is performing well, we will then use it to make predictions on new data.\n",
    "\n",
    "Let's start by evaluating the model's performance.\n"
   ]
  },
  {
   "cell_type": "code",
   "execution_count": null,
   "id": "4ccdcdab",
   "metadata": {
    "execution": {
     "iopub.execute_input": "2024-12-24T15:19:13.545386Z",
     "iopub.status.busy": "2024-12-24T15:19:13.543787Z",
     "iopub.status.idle": "2024-12-24T15:19:13.587050Z",
     "shell.execute_reply": "2024-12-24T15:19:13.585203Z"
    },
    "papermill": {
     "duration": null,
     "end_time": null,
     "exception": null,
     "start_time": null,
     "status": "pending"
    },
    "tags": []
   },
   "outputs": [],
   "source": [
    "# Updated formula for the regression model\n",
    "formula_update <- Life.Ladder ~ Log.GDP.per.capita + Social.support + \n",
    "                  Healthy.life.expectancy.at.birth + Freedom.to.make.life.choices +\n",
    "                  Generosity + Perceptions.of.corruption + \n",
    "                  Positive.affect + Negative.affect\n",
    "\n",
    "# Display the formula to ensure it is correctly defined\n",
    "print(formula_update)\n",
    "\n",
    "# Check for missing values in the dataset for the variables used in the model\n",
    "missing_data <- colSums(is.na(data_cleaned_updated[all.vars(formula_update)]))\n",
    "print(missing_data)\n",
    "\n",
    "# Check if all required columns are present in the dataset\n",
    "required_columns <- all.vars(formula_update) # Extract all variable names from the formula\n",
    "missing_columns <- setdiff(required_columns, colnames(data_cleaned_updated)) # Identify missing columns\n",
    "if (length(missing_columns) > 0) {\n",
    "  cat(\"Missing columns in the data:\", missing_columns, \"\\n\") # Inform about missing columns\n",
    "} else {\n",
    "  cat(\"All necessary columns are present.\\n\") # Confirm all columns are available\n",
    "}\n",
    "\n",
    "# Fit the model again after validating the dataset and formula\n",
    "if (length(missing_columns) == 0 && sum(missing_data) == 0) {\n",
    "  model_refined <- lm(formula_update, data = data_cleaned_updated) # Fit the refined model\n",
    "  summary(model_refined) # Display a summary of the refined model\n",
    "} else {\n",
    "  cat(\"There are issues with the data or formula. Please resolve the problems and try again.\\n\") # Notify of issues\n",
    "}\n"
   ]
  },
  {
   "cell_type": "code",
   "execution_count": null,
   "id": "da12d5b9",
   "metadata": {
    "execution": {
     "iopub.execute_input": "2024-12-24T15:19:13.591535Z",
     "iopub.status.busy": "2024-12-24T15:19:13.589968Z",
     "iopub.status.idle": "2024-12-24T15:19:13.617904Z",
     "shell.execute_reply": "2024-12-24T15:19:13.616008Z"
    },
    "papermill": {
     "duration": null,
     "end_time": null,
     "exception": null,
     "start_time": null,
     "status": "pending"
    },
    "tags": []
   },
   "outputs": [],
   "source": [
    "# Define the updated formula excluding the dependent variable from the predictors\n",
    "# In the previous version, 'Life.Ladder' was mistakenly included as a predictor.\n",
    "formula_update <- Life.Ladder ~ Log.GDP.per.capita + Social.support + \n",
    "    Healthy.life.expectancy.at.birth + Freedom.to.make.life.choices + \n",
    "    Generosity + Perceptions.of.corruption + Positive.affect\n",
    "\n",
    "# Fit the linear regression model using the updated formula\n",
    "# The model will now predict 'Life.Ladder' based on the selected independent variables\n",
    "model_refined <- lm(formula_update, data = data_cleaned_updated)\n",
    "\n",
    "# Display the summary of the refined model to inspect coefficients, R-squared, and p-values\n",
    "summary(model_refined)\n"
   ]
  },
  {
   "cell_type": "markdown",
   "id": "8e23a44b",
   "metadata": {
    "papermill": {
     "duration": null,
     "end_time": null,
     "exception": null,
     "start_time": null,
     "status": "pending"
    },
    "tags": []
   },
   "source": [
    "## Step 5: Model Summary\n",
    "\n",
    "### Model Fit and Performance\n",
    "\n",
    "A linear regression model was fitted to predict `Life.Ladder` using several predictor variables. The predictors included:\n",
    "\n",
    "- `Log.GDP.per.capita`\n",
    "- `Social.support`\n",
    "- `Healthy.life.expectancy.at.birth`\n",
    "- `Freedom.to.make.life.choices`\n",
    "- `Generosity`\n",
    "- `Perceptions.of.corruption`\n",
    "- `Positive.affect`\n",
    "\n",
    "The results of the linear regression are as follows:\n",
    "\n",
    "### Coefficients\n",
    "\n",
    "The coefficients for the predictors are as follows:\n",
    "\n",
    "- **Intercept**: -2.9110 (p < 2e-16)\n",
    "- **Log.GDP.per.capita**: 0.3665 (p < 2e-16)\n",
    "- **Social.support**: 2.0820 (p < 2e-16)\n",
    "- **Healthy.life.expectancy.at.birth**: 0.0306 (p < 2e-16)\n",
    "- **Freedom.to.make.life.choices**: 0.6624 (p = 1.48e-10)\n",
    "- **Generosity**: 0.2486 (p = 0.000412)\n",
    "- **Perceptions.of.corruption**: -0.7900 (p < 2e-16)\n",
    "- **Positive.affect**: 2.1996 (p < 2e-16)\n",
    "\n",
    "### Model Evaluation\n",
    "\n",
    "- **Residuals**: The residuals are centered around zero, with a minimum of -1.6631 and a maximum of 1.4380. The 1st quartile (Q1) is -0.2797, and the 3rd quartile (Q3) is 0.2881.\n",
    "- **Residual Standard Error**: The residual standard error is 0.4411, which indicates that the average deviation from the regression line is about 0.44.\n",
    "- **Multiple R-squared**: The model explains approximately 84.21% of the variance in `Life.Ladder`, which suggests a very good fit of the model to the data.\n",
    "- **Adjusted R-squared**: The adjusted R-squared value is 0.8415, which accounts for the number of predictors in the model and still indicates a strong model fit.\n",
    "- **F-statistic**: The F-statistic is 1490, with a p-value < 2.2e-16, suggesting that the overall model is statistically significant.\n",
    "\n",
    "### Conclusion\n",
    "\n",
    "The linear regression model indicates that the predictors (`Log.GDP.per.capita`, `Social.support`, `Healthy.life.expectancy.at.birth`, `Freedom.to.make.life.choices`, `Generosity`, `Perceptions.of.corruption`, and `Positive.affect`) are significant factors influencing `Life.Ladder`. The model has a strong fit with an R-squared of 84.21% and is statistically significant with an F-statistic p-value of less than 2.2e-16. The coefficients suggest that variables such as `Social.support` and `Positive.affect` have strong positive relationships with `Life.Ladder`, while `Perceptions.of.corruption` has a negative relationship.\n",
    "\n",
    "The model provides useful insights for understanding the factors contributing to life satisfaction (represented by `Life.Ladder`) in the dataset.\n"
   ]
  },
  {
   "cell_type": "markdown",
   "id": "c4d47f4b",
   "metadata": {
    "papermill": {
     "duration": null,
     "end_time": null,
     "exception": null,
     "start_time": null,
     "status": "pending"
    },
    "tags": []
   },
   "source": [
    "### Model Diagnostics\n",
    "\n",
    "In this section, we evaluated the assumptions of the linear regression model, specifically focusing on the following:\n",
    "\n",
    "1. **Normality of Residuals**: To check if the residuals are normally distributed, we visualized their distribution using a histogram and a Q-Q plot. The histogram provides an overview of the residuals' distribution, while the Q-Q plot allows us to visually inspect if the residuals align with a normal distribution.\n",
    "\n",
    "   - **Histogram of Residuals**: This plot shows the distribution of the residuals, which helps us assess if they follow a normal distribution. Ideally, the histogram should have a bell-shaped curve for normality.\n",
    "   \n",
    "   - **Q-Q Plot of Residuals**: The Q-Q plot compares the quantiles of the residuals with those of a normal distribution. If the points lie along the reference line, this indicates that the residuals are approximately normally distributed.\n",
    "\n",
    "2. **Homoscedasticity (Constant Variance of Residuals)**: Homoscedasticity means that the variance of the residuals should remain constant across all levels of the predicted values. To evaluate this assumption, we created a scatter plot of the residuals against the predicted values.\n",
    "\n",
    "   - **Residuals vs. Predicted Values Plot**: This plot helps us determine if the variance of residuals remains constant. Ideally, the plot should show a random spread of points around the horizontal axis (no clear patterns), indicating that the residuals have constant variance (homoscedasticity).\n",
    "\n",
    "3. **Autocorrelation of Residuals**: Autocorrelation refers to the correlation of residuals across different observations. If residuals are autocorrelated, it suggests a potential issue with the model (e.g., missing variables). To assess autocorrelation, we used the Autocorrelation Function (ACF) plot.\n",
    "\n",
    "   - **ACF Plot of Residuals**: This plot shows the autocorrelation of residuals at various lags. Ideally, we expect no significant autocorrelation (i.e., no spikes in the plot), suggesting that the residuals are independent.\n",
    "\n",
    "### Results\n",
    "\n",
    "Based on the analysis of these diagnostic plots:\n",
    "\n",
    "- If the histogram and Q-Q plot indicate that the residuals are normally distributed, the model assumption of normality is satisfied.\n",
    "- If the residuals vs. predicted values plot shows no discernible pattern, it suggests that homoscedasticity holds (constant variance of residuals).\n",
    "- If the ACF plot reveals no significant autocorrelation, the residuals are independent.\n",
    "\n",
    "These diagnostics are crucial for verifying the assumptions of linear regression and ensuring the reliability of the model's results.\n"
   ]
  },
  {
   "cell_type": "markdown",
   "id": "1f023b27",
   "metadata": {
    "papermill": {
     "duration": null,
     "end_time": null,
     "exception": null,
     "start_time": null,
     "status": "pending"
    },
    "tags": []
   },
   "source": [
    "## Step 6: Model Diagnostics\n",
    "\n",
    "\n",
    "In this step, we performed diagnostic checks on the regression model to ensure the assumptions of linear regression are met. We used diagnostic plots to assess the following key assumptions:\n",
    "\n",
    "1. **Normality of residuals**: A histogram and a Q-Q plot were used to check if the residuals follow a normal distribution.\n",
    "2. **Homoscedasticity**: A plot of residuals vs fitted values was created to check for constant variance in the residuals.\n",
    "3. **Independence of residuals**: Although not directly visualized in these plots, it is implied that the residuals should be independent of each other.\n",
    "\n",
    "### Results:\n",
    "- **Normality of Residuals**: The histogram and Q-Q plot suggest that the residuals are approximately normally distributed, although there may be slight deviations from normality.\n",
    "- **Homoscedasticity**: The residual vs fitted plot indicates no obvious patterns, suggesting that the variance of residuals is constant across the range of fitted values.\n",
    "- **Independence of Residuals**: This can be assessed by further checks (e.g., Durbin-Watson test), but no obvious issues were seen in the residual plots.\n",
    "\n",
    "These diagnostics indicate that the model assumptions are largely met, supp\n"
   ]
  },
  {
   "cell_type": "code",
   "execution_count": null,
   "id": "d51ba711",
   "metadata": {
    "execution": {
     "iopub.execute_input": "2024-12-24T15:19:13.622269Z",
     "iopub.status.busy": "2024-12-24T15:19:13.620765Z",
     "iopub.status.idle": "2024-12-24T15:19:13.875156Z",
     "shell.execute_reply": "2024-12-24T15:19:13.873185Z"
    },
    "papermill": {
     "duration": null,
     "end_time": null,
     "exception": null,
     "start_time": null,
     "status": "pending"
    },
    "tags": []
   },
   "outputs": [],
   "source": [
    "# Residuals of the model\n",
    "residuals_model <- residuals(model)\n",
    "\n",
    "# Histogram of residuals\n",
    "hist(residuals_model, main = \"Histogram of Residuals\", xlab = \"Residuals\", col = \"lightblue\", border = \"black\")\n",
    "\n",
    "# Q-Q plot\n",
    "qqnorm(residuals_model, main = \"Q-Q plot of Residuals\")\n",
    "qqline(residuals_model, col = \"red\")\n"
   ]
  },
  {
   "cell_type": "markdown",
   "id": "a382db56",
   "metadata": {
    "papermill": {
     "duration": null,
     "end_time": null,
     "exception": null,
     "start_time": null,
     "status": "pending"
    },
    "tags": []
   },
   "source": [
    "### Step 7: Model Interpretation and Significance of Variables\n",
    "\n",
    "In this step, we conducted a linear regression analysis to explore the relationship between the **Life Ladder** and various independent variables. The following results were obtained:\n",
    "\n",
    "- **Intercept**: The intercept value is -2.911, which represents the estimated value of the **Life Ladder** when all predictor variables are equal to zero. The p-value for the intercept is highly significant (< 2e-16), indicating that the intercept is statistically meaningful.\n",
    "\n",
    "- **Log.GDP.per.capita**: This variable has a positive relationship with the **Life Ladder**, with a coefficient of 0.367, and a p-value of < 2e-16. This suggests that higher GDP per capita is associated with higher life satisfaction.\n",
    "\n",
    "- **Social.support**: The coefficient for **Social.support** is 2.082, with a p-value of < 2e-16, indicating a strong positive influence on the **Life Ladder**. This suggests that a higher level of social support is linked to higher life satisfaction.\n",
    "\n",
    "- **Healthy.life.expectancy.at.birth**: The positive coefficient of 0.0316 and a p-value of < 2e-16 indicate that higher life expectancy at birth is associated with higher life satisfaction.\n",
    "\n",
    "- **Freedom.to.make.life.choices**: The coefficient of 0.662 and p-value of 1.48e-10 suggest that the greater the freedom to make life choices, the higher the **Life Ladder** score.\n",
    "\n",
    "- **Generosity**: This variable has a coefficient of 0.249, with a p-value of 0.000412, showing that greater generosity is positively related to higher life satisfaction.\n",
    "\n",
    "- **Perceptions.of.corruption**: The negative coefficient of -0.790 and p-value of < 2e-16 indicate that higher perceptions of corruption are associated with lower **Life Ladder** scores.\n",
    "\n",
    "- **Positive.affect**: With a coefficient of 2.200 and a p-value of < 2e-16, **Positive.affect** has a significant positive effect on life satisfaction.\n",
    "\n",
    "### Key Insights:\n",
    "- All the variables included in the model are statistically significant, with very low p-values (all less than 0.05).\n",
    "- The strongest predictors of life satisfaction (**Life Ladder**) are **Perceptions.of.corruption** and **Positive.affect**.\n",
    "- These findings suggest that economic, social, and psychological factors all play an important role in determining life satisfaction across different countries.\n",
    "\n",
    "In the next step, we may continue with model diagnostics to ensure that the assumptions of linear regression are met.\n"
   ]
  },
  {
   "cell_type": "code",
   "execution_count": null,
   "id": "63665852",
   "metadata": {
    "execution": {
     "iopub.execute_input": "2024-12-24T15:19:13.879632Z",
     "iopub.status.busy": "2024-12-24T15:19:13.878088Z",
     "iopub.status.idle": "2024-12-24T15:19:13.898125Z",
     "shell.execute_reply": "2024-12-24T15:19:13.896231Z"
    },
    "papermill": {
     "duration": null,
     "end_time": null,
     "exception": null,
     "start_time": null,
     "status": "pending"
    },
    "tags": []
   },
   "outputs": [],
   "source": [
    "# Display the summary of the model to examine the significance of variables\n",
    "summary(model_refined)\n"
   ]
  },
  {
   "cell_type": "markdown",
   "id": "dfd521ca",
   "metadata": {
    "papermill": {
     "duration": null,
     "end_time": null,
     "exception": null,
     "start_time": null,
     "status": "pending"
    },
    "tags": []
   },
   "source": [
    "### Summary of Results\n",
    "\n",
    "After running the linear regression model, we obtained the following key insights:\n",
    "\n",
    "- **Intercept**: The intercept value of -2.911 is statistically significant, but it doesn't have much practical interpretation as it represents the predicted **Life Ladder** value when all predictor variables are zero.\n",
    "  \n",
    "- **Log.GDP.per.capita**: The positive relationship with **Life Ladder** (coefficient of 0.367) indicates that higher GDP per capita is associated with higher life satisfaction, and this result is highly significant.\n",
    "\n",
    "- **Social.support**: With a coefficient of 2.082, **Social.support** shows a strong positive relationship with life satisfaction, emphasizing the importance of social networks in influencing well-being.\n",
    "\n",
    "- **Healthy.life.expectancy.at.birth**: This variable also shows a positive relationship with **Life Ladder**, suggesting that healthier populations tend to report higher life satisfaction.\n",
    "\n",
    "- **Freedom.to.make.life.choices**: The positive effect of 0.662 implies that greater freedom of choice in life leads to higher life satisfaction, with this result being statistically significant.\n",
    "\n",
    "- **Generosity**: The positive coefficient of 0.249 indicates that more generous societies tend to experience higher life satisfaction, underlining the role of social values in subjective well-being.\n",
    "\n",
    "- **Perceptions.of.corruption**: This variable has a significant negative coefficient of -0.790, showing that countries with higher corruption perceptions tend to report lower life satisfaction.\n",
    "\n",
    "- **Positive.affect**: The positive coefficient of 2.200 demonstrates that higher levels of positive emotions correlate with higher life satisfaction, which is an important psychological factor.\n",
    "\n",
    "### Model Fit:\n",
    "- **Multiple R-squared**: 0.8421, which indicates that 84.21% of the variance in **Life Ladder** is explained by the predictor variables.\n",
    "- **Adjusted R-squared**: 0.8415, which adjusts the R-squared for the number of predictors in the model.\n",
    "- **F-statistic**: The high F-statistic value (1490) and the very low p-value (< 2.2e-16) indicate that the model is highly significant and that the predictors collectively explain a large portion of the variance in life satisfaction.\n",
    "\n",
    "Overall, the regression model suggests that economic, social, and psychological factors all play a crucial role in determining life satisfaction. These findings can inform policies aimed at improving overall well-being by focusing on economic development, social support, reducing corruption, and enhancing emotional well-being.\n"
   ]
  },
  {
   "cell_type": "markdown",
   "id": "6d4c5d64",
   "metadata": {
    "papermill": {
     "duration": null,
     "end_time": null,
     "exception": null,
     "start_time": null,
     "status": "pending"
    },
    "tags": []
   },
   "source": [
    "## Steep 8: Check for Multicollinearity\n",
    "\n",
    "Multicollinearity occurs when two or more predictor variables in a regression model are highly correlated. This can cause issues in interpreting the coefficients and inflate the standard errors of the estimates, leading to less reliable results.\n",
    "\n",
    "To detect multicollinearity, we will use the **Variance Inflation Factor (VIF)**. A VIF value greater than 10 typically indicates high multicollinearity between the corresponding predictor variable and the other predictors in the model. In such cases, it may be necessary to remove or combine the correlated variables to improve the model's accuracy and interpretability.\n",
    "\n",
    "### Steps:\n",
    "- We will calculate the VIF for each predictor in the model.\n",
    "- If any predictors have high VIF values, we may consider addressing multicollinearity by removing or combining variables.\n",
    "\n",
    "Now, let's calculate the VIF for the variables in our updated regression model.\n"
   ]
  },
  {
   "cell_type": "code",
   "execution_count": null,
   "id": "fcfef13a",
   "metadata": {
    "execution": {
     "iopub.execute_input": "2024-12-24T15:19:13.902467Z",
     "iopub.status.busy": "2024-12-24T15:19:13.900956Z",
     "iopub.status.idle": "2024-12-24T15:19:13.925142Z",
     "shell.execute_reply": "2024-12-24T15:19:13.923282Z"
    },
    "papermill": {
     "duration": null,
     "end_time": null,
     "exception": null,
     "start_time": null,
     "status": "pending"
    },
    "tags": []
   },
   "outputs": [],
   "source": [
    "# Install the car package if not already installed\n",
    "if (!require(car)) install.packages(\"car\")\n",
    "\n",
    "# Load the car package\n",
    "library(car)\n",
    "\n",
    "# Calculate the VIF for the model\n",
    "vif(model_updated)\n"
   ]
  },
  {
   "cell_type": "markdown",
   "id": "4c5562e4",
   "metadata": {
    "papermill": {
     "duration": null,
     "end_time": null,
     "exception": null,
     "start_time": null,
     "status": "pending"
    },
    "tags": []
   },
   "source": [
    "### Summary of VIF Results:\n",
    "\n",
    "The Variance Inflation Factor (VIF) values for the predictor variables in the regression model have been computed. The VIFs indicate that there is no significant multicollinearity issue among the predictor variables, as all VIF values are below the threshold of 10.\n",
    "\n",
    "- **Log.GDP.per.capita**: 5.35\n",
    "- **Social.support**: 2.72\n",
    "- **Healthy.life.expectancy.at.birth**: 4.17\n",
    "- **Freedom.to.make.life.choices**: 1.96\n",
    "- **Generosity**: 1.25\n",
    "- **Perceptions.of.corruption**: 1.55\n",
    "- **Positive.affect**: 1.76\n",
    "- **Negative.affect**: 1.42\n",
    "\n",
    "These results suggest that the predictor variables are not highly correlated with each other, and multicollinearity is not a major concern in the regression model.\n"
   ]
  },
  {
   "cell_type": "markdown",
   "id": "de272a79",
   "metadata": {
    "papermill": {
     "duration": null,
     "end_time": null,
     "exception": null,
     "start_time": null,
     "status": "pending"
    },
    "tags": []
   },
   "source": [
    "### Step 9: Residual Diagnostics\n",
    "\n",
    "In this step, we will evaluate the residuals from our linear regression model to check whether they meet the assumptions of normality and homoscedasticity.\n",
    "\n",
    "1. **Normality of Residuals**:\n",
    "   - A Q-Q plot will be generated to visually assess whether the residuals follow a normal distribution. This is an important assumption for linear regression models.\n",
    "\n",
    "2. **Homoscedasticity**:\n",
    "   - A residuals vs. fitted values plot will be created to check for homoscedasticity. Homoscedasticity means that the variance of the residuals should remain constant across all levels of the fitted values.\n"
   ]
  },
  {
   "cell_type": "code",
   "execution_count": null,
   "id": "14da2270",
   "metadata": {
    "execution": {
     "iopub.execute_input": "2024-12-24T15:19:13.929370Z",
     "iopub.status.busy": "2024-12-24T15:19:13.927936Z",
     "iopub.status.idle": "2024-12-24T15:19:14.335768Z",
     "shell.execute_reply": "2024-12-24T15:19:14.333526Z"
    },
    "papermill": {
     "duration": null,
     "end_time": null,
     "exception": null,
     "start_time": null,
     "status": "pending"
    },
    "tags": []
   },
   "outputs": [],
   "source": [
    "# Step 9: Residual Diagnostics\n",
    "\n",
    "# 1. Q-Q plot to check normality of residuals\n",
    "qqnorm(residuals(model))\n",
    "qqline(residuals(model), col = \"red\")\n",
    "\n",
    "# 2. Residuals vs fitted values plot to check homoscedasticity\n",
    "plot(fitted(model), residuals(model), \n",
    "     xlab = \"Fitted values\", ylab = \"Residuals\",\n",
    "     main = \"Residuals vs Fitted values\")\n",
    "abline(h = 0, col = \"red\")\n"
   ]
  },
  {
   "cell_type": "markdown",
   "id": "f9a5276c",
   "metadata": {
    "papermill": {
     "duration": null,
     "end_time": null,
     "exception": null,
     "start_time": null,
     "status": "pending"
    },
    "tags": []
   },
   "source": [
    "## Step 10: Summary of the Regression Results\n",
    "\n",
    "### Model Interpretation\n",
    "\n",
    "The linear regression model was fitted to predict the **Life Ladder** based on the following predictors: **Log GDP per capita**, **Social support**, **Healthy life expectancy at birth**, **Freedom to make life choices**, **Generosity**, **Perceptions of corruption**, and **Positive affect**. The model coefficients, standard errors, t-values, and p-values are summarized below:\n",
    "\n",
    "| Predictor                         | Estimate  | Std. Error | t value  | Pr(>|t|)  |\n",
    "|------------------------------------|-----------|------------|----------|-----------|\n",
    "| **Intercept**                      | -2.911026 | 0.144307   | -20.172  | < 2e-16   |\n",
    "| **Log.GDP.per.capita**             | 0.366523  | 0.020325   | 18.033   | < 2e-16   |\n",
    "| **Social.support**                 | 2.082006  | 0.129448   | 16.084   | < 2e-16   |\n",
    "| **Healthy.life.expectancy.at.birth**| 0.030631  | 0.003013   | 10.167   | < 2e-16   |\n",
    "| **Freedom.to.make.life.choices**   | 0.662413  | 0.102819   | 6.443    | 1.48e-10  |\n",
    "| **Generosity**                     | 0.248640  | 0.070267   | 3.539    | 0.000412  |\n",
    "| **Perceptions.of.corruption**      | -0.789988 | 0.067202   | -11.755  | < 2e-16   |\n",
    "| **Positive.affect**                | 2.199577  | 0.123967   | 17.743   | < 2e-16   |\n",
    "\n",
    "### Interpretation of Key Results\n",
    "\n",
    "1. **Log GDP per capita**: The positive coefficient (0.3665) suggests that higher GDP per capita is associated with a higher life satisfaction score (Life Ladder), and this result is statistically significant (p < 2e-16).\n",
    "\n",
    "2. **Social support**: This predictor shows a strong positive relationship (2.0820) with life satisfaction. The p-value (p < 2e-16) indicates high statistical significance.\n",
    "\n",
    "3. **Healthy life expectancy at birth**: The positive coefficient (0.0306) indicates that higher life expectancy is associated with better life satisfaction. This relationship is highly significant (p < 2e-16).\n",
    "\n",
    "4. **Freedom to make life choices**: The positive coefficient (0.6624) suggests that greater freedom in making life choices improves life satisfaction, and the result is statistically significant (p = 1.48e-10).\n",
    "\n",
    "5. **Generosity**: The positive relationship (0.2486) with life satisfaction is statistically significant (p = 0.000412), indicating that more generous societies tend to report higher life satisfaction.\n",
    "\n",
    "6. **Perceptions of corruption**: The negative coefficient (-0.7900) indicates that higher perceptions of corruption are associated with lower life satisfaction, and this result is highly significant (p < 2e-16).\n",
    "\n",
    "7. **Positive affect**: A strong positive relationship (2.1996) suggests that individuals who experience more positive emotions have higher life satisfaction. This result is also highly significant (p < 2e-16).\n",
    "\n",
    "### Model Fit\n",
    "\n",
    "The model has a **Multiple R-squared** value of **0.8421**, indicating that approximately 84.21% of the variation in life satisfaction is explained by the predictors included in the model. The **Adjusted R-squared** value of **0.8415** adjusts for the number of predictors in the model, further confirming the model's good fit. The **F-statistic** (1490 on 7 and 1956 degrees of freedom) with a p-value < 2.2e-16 suggests that the model as a whole is highly significant.\n",
    "\n",
    "### Conclusion\n",
    "\n",
    "The analysis indicates that **GDP per capita**, **social support**, **healthy life expectancy**, **freedom to make life choices**, **generosity**, **perceptions of corruption**, and **positive affect** are significant predictors of life satisfaction. The model explains a large proportion of the variance in life satisfaction (approximately 84%), and all the predictors have a statistically significant relationship with the outcome variable.\n"
   ]
  },
  {
   "cell_type": "markdown",
   "id": "1d48af8b",
   "metadata": {
    "papermill": {
     "duration": null,
     "end_time": null,
     "exception": null,
     "start_time": null,
     "status": "pending"
    },
    "tags": []
   },
   "source": [
    "## Project Summary\n",
    "\n",
    "In this project, an analysis of happiness data across different countries was conducted, focusing on identifying key variables that influence people's happiness levels. The goal was to build a linear regression model to understand the factors affecting happiness and their relative importance.\n",
    "\n",
    "### Steps Taken:\n",
    "1. **Data Preprocessing** – Missing values were handled, and appropriate transformations were applied to the variables.\n",
    "2. **Linear Regression Model Construction** – A linear regression model was built using selected variables to estimate the influence of factors such as GDP per capita, social support, life expectancy, and corruption on happiness levels.\n",
    "3. **Diagnostic Analysis** – Diagnostic plots were created to assess model assumptions, such as normality of residuals and linearity.\n",
    "4. **Results Interpretation** – The results were interpreted, identifying the most significant variables influencing happiness and evaluating model quality using R-squared and p-values.\n",
    "\n",
    "### Findings:\n",
    "The model shows that the most significant factors affecting happiness are GDP per capita, social support, and life expectancy. Additionally, perceptions of corruption have a negative impact on happiness, while positive affect and freedom to make life choices positively influence happiness.\n",
    "\n",
    "### Final Assessment:\n",
    "The project was successfully completed, and the built linear regression model provided valuable insights. The analysis met its objectives and can be used for further research or policy recommendations.\n"
   ]
  }
 ],
 "metadata": {
  "kaggle": {
   "accelerator": "none",
   "dataSources": [
    {
     "datasetId": 5016030,
     "sourceId": 8424425,
     "sourceType": "datasetVersion"
    }
   ],
   "dockerImageVersionId": 30749,
   "isGpuEnabled": false,
   "isInternetEnabled": false,
   "language": "r",
   "sourceType": "notebook"
  },
  "kernelspec": {
   "display_name": "R",
   "language": "R",
   "name": "ir"
  },
  "language_info": {
   "codemirror_mode": "r",
   "file_extension": ".r",
   "mimetype": "text/x-r-source",
   "name": "R",
   "pygments_lexer": "r",
   "version": "4.4.0"
  },
  "papermill": {
   "default_parameters": {},
   "duration": 6.252224,
   "end_time": "2024-12-24T15:41:31.671511",
   "environment_variables": {},
   "exception": true,
   "input_path": "__notebook__.ipynb",
   "output_path": "__notebook__.ipynb",
   "parameters": {},
   "start_time": "2024-12-24T15:41:25.419287",
   "version": "2.6.0"
  }
 },
 "nbformat": 4,
 "nbformat_minor": 5
}
